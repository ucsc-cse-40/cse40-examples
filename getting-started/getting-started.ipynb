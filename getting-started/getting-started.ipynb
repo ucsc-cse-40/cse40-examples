{
 "cells": [
  {
   "cell_type": "markdown",
   "id": "85549633-ee86-4493-81f4-f37cd9ae2e87",
   "metadata": {},
   "source": [
    "# Getting Started\n",
    "\n",
    "The readme for this example should have already prepared you to open this iPython notebook.\n",
    "Notebooks are where you will do most of your programming for this course,\n",
    "so you will need to make sure to get comfortable with them.\n",
    "HO0 contains several tutorials you can reference.\n",
    "Make sure to play around with notebooks on your own to get used to what you can and cannot do.\n",
    "\n",
    "In this example, we will just cover a few things about notebooks\n",
    "(it is not a full tutorial)."
   ]
  },
  {
   "cell_type": "markdown",
   "id": "893eace2-8a00-4d67-84a9-5527665b6586",
   "metadata": {},
   "source": [
    "## Running Cells\n",
    "\n",
    "To execute a cell you can click the run button at the top,\n",
    "or you can use `(Ctrl+Enter)`.\n",
    "Try using `(Ctrl+Enter)` multiple times on the cell bellow."
   ]
  },
  {
   "cell_type": "code",
   "execution_count": null,
   "id": "23fe8524-5e1d-4449-90d3-8990124f2ce6",
   "metadata": {},
   "outputs": [],
   "source": [
    "import random\n",
    "\n",
    "random.random()"
   ]
  },
  {
   "cell_type": "markdown",
   "id": "a7933a40-12a2-4215-a275-a99f5caf43ed",
   "metadata": {},
   "source": [
    "You can also use `(Shift+Enter)` to run a cell,\n",
    "but that will also move you to the next cell.\n",
    "Try it on the next two cells."
   ]
  },
  {
   "cell_type": "code",
   "execution_count": null,
   "id": "9d88318a-dc68-448a-b1c0-5979d11a8331",
   "metadata": {},
   "outputs": [],
   "source": [
    "print(\"First cell: \", random.random())"
   ]
  },
  {
   "cell_type": "code",
   "execution_count": null,
   "id": "3d57e0c8-627f-46b1-a1da-e36530b3e03b",
   "metadata": {},
   "outputs": [],
   "source": [
    "print(\"Second cell: \", random.random())"
   ]
  },
  {
   "cell_type": "markdown",
   "id": "bfdebcbd-4a84-4e9b-a4ee-453ee2172a5a",
   "metadata": {},
   "source": [
    "#### Markdown Cells\n",
    "\n",
    "For markdown cells (like the text you are reading now),\n",
    "running the cell renders the text (converts it from code into pretty text).\n",
    "Double click the cell to edit it.\n",
    "Try it on this cell."
   ]
  },
  {
   "cell_type": "markdown",
   "id": "100499b3-dfa9-4b10-90e9-ec730d79e44b",
   "metadata": {},
   "source": [
    "## Managing Cells\n",
    "\n",
    "You can use the buttons on the top right of a cell (after you click on it) to manage the cell.\n",
    "These options are also available in the \"Edit\" menu.\n",
    "You can:\n",
    " - duplicate the cell\n",
    " - move the cell up (before the previous one)\n",
    " - move the cell down (after the next one)\n",
    " - add in an empty cell before this one\n",
    " - add in an empty cell after this one\n",
    " - delete this cell\n",
    "\n",
    "You can also drag a cell, but sometimes this gets messed up when you have really large cells."
   ]
  },
  {
   "cell_type": "markdown",
   "id": "a929f484-47e4-4da8-9ec7-5e364da24ed8",
   "metadata": {},
   "source": [
    "## Cell Context\n",
    "\n",
    "After you run a cell, the code you ran and the context you created is available to **all** cells in the notebook (even cells that came before).\n",
    "By context, we mean any Python state that you created or changed like variables, functions, and imports.\n",
    "\n",
    "For example, look at the next four cells.\n",
    "The first cell currently has three issues:\n",
    " - The `platform` package has been used without being imported.\n",
    " - The function `some_function` has not been defined.\n",
    " - The variable `some_variable` does not exist.\n",
    "\n",
    "Each of the three cells bellow the first one fix one of these issues.\n",
    "Try alternating between one of the fix cells and the broken cell.\n",
    "See that once you create the state in one of the fix cells (e.g., when you import a package),\n",
    "then that state will exist in other cells even ones earlier in the notebook.\n",
    "What matters is the order the cells are **executed** in, not the order they are defined in.\n",
    "\n",
    "Also note that for `some_variable`, running the cell the defines it multiple times will redefine it with a new value every time.\n",
    "\n",
    "If you want to clear all the state in your notebook, you have to restart the kernel.\n",
    "This can be done with the \"Kernel\" menu at the top of Jupyter Lab.\n",
    "If you also clear all outputs, then it will remove the visual result from any cells that have previously run."
   ]
  },
  {
   "cell_type": "code",
   "execution_count": null,
   "id": "110c0497-096f-43d7-9eb5-db40495dfec9",
   "metadata": {},
   "outputs": [],
   "source": [
    "# This cell will not run right away.\n",
    "\n",
    "try:\n",
    "    print(\"OS information: \", platform.platform())\n",
    "except Exception:\n",
    "    print(\"ERROR: Could not get OS information.\")\n",
    "    \n",
    "try:\n",
    "    print(\"some_function: \", some_function())\n",
    "except Exception:\n",
    "    print(\"ERROR: Could not call some_function().\")\n",
    "          \n",
    "try:\n",
    "    print(\"some_variable: \", some_variable)\n",
    "except Exception:\n",
    "    print(\"ERROR: Could not access some_variable.\")"
   ]
  },
  {
   "cell_type": "code",
   "execution_count": null,
   "id": "cad021e2-8bed-4c19-ab09-c6b7b7b1467d",
   "metadata": {},
   "outputs": [],
   "source": [
    "# Fix the missing import.\n",
    "\n",
    "import platform"
   ]
  },
  {
   "cell_type": "code",
   "execution_count": null,
   "id": "8573df38-e9e6-462e-9da6-d1f6e0840eb8",
   "metadata": {},
   "outputs": [],
   "source": [
    "# Fix the missing function definition.\n",
    "\n",
    "def some_function():\n",
    "    return 'dogs'"
   ]
  },
  {
   "cell_type": "code",
   "execution_count": null,
   "id": "7a77d1ee-16a2-4038-9ea0-3b7ba5654e90",
   "metadata": {},
   "outputs": [],
   "source": [
    "# Fix the missing variable definition.\n",
    "\n",
    "some_variable = random.random()"
   ]
  },
  {
   "cell_type": "markdown",
   "id": "561dd5d7-9f9c-47a0-8477-51043d6512ad",
   "metadata": {},
   "source": [
    "## Final Empty Cells\n",
    "\n",
    "Be careful of empty cells at the bottom of files,\n",
    "the style checker doesn't like that.\n",
    "(It is easy to accidentally create these if you use `(Shift+Enter)`.)"
   ]
  }
 ],
 "metadata": {
  "kernelspec": {
   "display_name": "Python 3 (ipykernel)",
   "language": "python",
   "name": "python3"
  },
  "language_info": {
   "codemirror_mode": {
    "name": "ipython",
    "version": 3
   },
   "file_extension": ".py",
   "mimetype": "text/x-python",
   "name": "python",
   "nbconvert_exporter": "python",
   "pygments_lexer": "ipython3",
   "version": "3.11.3"
  }
 },
 "nbformat": 4,
 "nbformat_minor": 5
}

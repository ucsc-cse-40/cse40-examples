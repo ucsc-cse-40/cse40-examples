{
 "cells": [
  {
   "cell_type": "markdown",
   "id": "bba68a6e-c0c2-4ed3-b7e1-c12e28a0a07a",
   "metadata": {},
   "source": [
    "# Pandas Quirks\n",
    "\n",
    "Pandas is a very powerful tool that we will use a lot in this course.\n",
    "However, just like any other framework, Pandas also has its own quirks that you will have to get used to.\n",
    "\n",
    "Once you start to understand the \"Pandas' way\" of doing things, things will start to feel pretty intuitive.\n",
    "But getting to that point can be hard.\n",
    "So in this example we will discuss some Pandas terminology, mechanisms, and quirks.\n",
    "Hopefully understanding these will help you think in the \"Pandas' way\".\n",
    "\n",
    "(But coming from a database perspective, Pandas is bananas. -eriq)"
   ]
  },
  {
   "cell_type": "markdown",
   "id": "6018338e-bbdf-4008-966c-464ab251e4c6",
   "metadata": {},
   "source": [
    "Let's start out with some simple data:"
   ]
  },
  {
   "cell_type": "code",
   "execution_count": null,
   "id": "495c86b9-fc41-421f-9551-c332d34ed978",
   "metadata": {},
   "outputs": [],
   "source": [
    "import pandas\n",
    "\n",
    "surf_data = {\n",
    "    'Name': ['Andrew', 'Eriq', 'Reilly', 'Michael'],\n",
    "    'Surfing Score': [5.3, 5.9, 5.1, 5.2],\n",
    "    'Qualification': ['MS', 'PhD', 'PhD', 'PhD'],\n",
    "}\n",
    "\n",
    "surf_frame = pandas.DataFrame(surf_data)\n",
    "surf_frame"
   ]
  },
  {
   "cell_type": "markdown",
   "id": "a6f88709-6efc-42c1-871e-008ead83e73e",
   "metadata": {},
   "source": [
    "## Indexes\n",
    "\n",
    "In Pandas, every frame (and series) has a special column called the \"index\".\n",
    "(Note that this column is not related to database indexes or the concept of \"indexing\" or selecting data.)\n",
    "The [index](https://pandas.pydata.org/pandas-docs/stable/reference/api/pandas.DataFrame.index.html) is used to uniquely identify every row (think \"primary key\" in databases).\n",
    "By default, the index is a special column of ints (a range of ints actually) that sits right next to the other columns, but cannot be selected the same way.\n",
    "If you look at the `surf_frame` above, you can see the index column on the far left.\n",
    "\n",
    "You can select the index column using `.index`:"
   ]
  },
  {
   "cell_type": "code",
   "execution_count": null,
   "id": "39dc3eb2-f405-4669-a2e3-bbe0871bf6ad",
   "metadata": {},
   "outputs": [],
   "source": [
    "surf_frame.index"
   ]
  },
  {
   "cell_type": "markdown",
   "id": "80bc51b9-af9c-499c-b32d-ac3ce92b28f2",
   "metadata": {},
   "source": [
    "You can also use `.index` to assign a new index to your frame.\n",
    "As long as what you assign the index has the right number of elements.\n",
    "Ideally, each element should also be unique and hashable (otherwise other Pandas operations can mess up down the road)."
   ]
  },
  {
   "cell_type": "code",
   "execution_count": null,
   "id": "7399c40c-678e-4bd7-8ba4-51bcd210e7fa",
   "metadata": {},
   "outputs": [],
   "source": [
    "test_frame = surf_frame.copy()\n",
    "test_frame.index = reversed(range(100, 104))\n",
    "test_frame"
   ]
  },
  {
   "cell_type": "code",
   "execution_count": null,
   "id": "ff330a3d-af4e-4da7-905f-2165cb154a1d",
   "metadata": {},
   "outputs": [],
   "source": [
    "test_frame = surf_frame.copy()\n",
    "test_frame.index = [\"A\", 1, (\"Dog\", \"Hat\", 1), 5.5]\n",
    "test_frame"
   ]
  },
  {
   "cell_type": "markdown",
   "id": "e6ad1d8d-906b-4ca3-b0b7-255ee52124ab",
   "metadata": {},
   "source": [
    "## Axes\n",
    "\n",
    "There are many different operations you can do on a Pandas frame.\n",
    "Sometimes it is obvious that the operation should be on the frame, a row, a col, or a cell.\n",
    "But sometimes operations could make sense in multiple directions,\n",
    "like if you wanted to get the number of unique values ([pandas.DataFrame.nunique](https://pandas.pydata.org/pandas-docs/stable/reference/api/pandas.DataFrame.nunique.html)).\n",
    "You may want the number of unique values in a row or in a column.\n",
    "To resolve this, Pandas uses the concept of \"axes\".\n",
    "Where `axis = 0` normally means along rows (or along the index) and `axis = 1` normally means along columns.\n",
    "`axis = 0` is usually the default.\n",
    "\n",
    "Therefore, to find the number of unique values **going through each row**, we can use:"
   ]
  },
  {
   "cell_type": "code",
   "execution_count": null,
   "id": "7be1a048-91a3-44f3-ac6c-a0d4acdbe600",
   "metadata": {},
   "outputs": [],
   "source": [
    "surf_frame.nunique(axis = 0)"
   ]
  },
  {
   "cell_type": "markdown",
   "id": "ac678b0b-7ef1-4e89-b6bf-847fe6fd7758",
   "metadata": {},
   "source": [
    "The above operation took each column and **went along the row axis** to compute the number of unique values.\n",
    "\n",
    "To find the number of unique values **going through each column**, we can use:"
   ]
  },
  {
   "cell_type": "code",
   "execution_count": null,
   "id": "13f21eb5-732c-4776-92c8-28fdf0bc05d7",
   "metadata": {},
   "outputs": [],
   "source": [
    "surf_frame.nunique(axis = 1)"
   ]
  },
  {
   "cell_type": "markdown",
   "id": "66bc0661-e91b-417d-916d-4c6529e8d8fb",
   "metadata": {},
   "source": [
    "Note that in the operation along the 0th axis (the rows), we got to see the column names.\n",
    "When going through the 1st axis (the cols), we get to see the index value for each row.\n",
    "As we say before we can change the index and see the result in the labels:"
   ]
  },
  {
   "cell_type": "code",
   "execution_count": null,
   "id": "5e8b4c10-552b-4eed-aa8d-122eadcee04b",
   "metadata": {},
   "outputs": [],
   "source": [
    "test_frame = surf_frame.copy()\n",
    "test_frame.index = [\"A\", \"B\", \"C\", \"D\"]\n",
    "test_frame.nunique(axis = 1)"
   ]
  },
  {
   "cell_type": "markdown",
   "id": "fff2f24f-5be8-4bac-b0b6-61e3e8df9755",
   "metadata": {},
   "source": [
    "## Data Types\n",
    "\n",
    "In Pandas, data is (almost) always in a [pandas.DataFrame](https://pandas.pydata.org/pandas-docs/stable/reference/api/pandas.DataFrame.html)\n",
    "or a [pandas.Series](https://pandas.pydata.org/pandas-docs/stable/reference/api/pandas.Series.html).\n",
    "If an operation is guaranteed to only have one column, then the data will be in a series otherwise it will be in a frame.\n",
    "\n",
    "Thankfully, many methods exist for both data types so many people don't even realise when they are using one or the other.\n",
    "Not knowing the underlying data type you are using is fine for simple operations.\n",
    "But if you are doing more complex things, you may need to know what data type you are working with.\n",
    "\n",
    "For example, if we select a single column from a frame we will get a series back:"
   ]
  },
  {
   "cell_type": "code",
   "execution_count": null,
   "id": "ea34c971-81aa-4c37-aa0d-16d21e989c27",
   "metadata": {},
   "outputs": [],
   "source": [
    "value = surf_frame['Name']\n",
    "\n",
    "print(type(value))\n",
    "value"
   ]
  },
  {
   "cell_type": "markdown",
   "id": "1a0100d7-c6f1-4c8b-a339-cbd4d8141170",
   "metadata": {},
   "source": [
    "And if we select multiple columns from a frame, then we will get a frame back:"
   ]
  },
  {
   "cell_type": "code",
   "execution_count": null,
   "id": "29ebeb6f-a86c-499f-b0ed-0a4aa5be7bf6",
   "metadata": {},
   "outputs": [],
   "source": [
    "value = surf_frame[['Name', 'Qualification']]\n",
    "\n",
    "print(type(value))\n",
    "value"
   ]
  },
  {
   "cell_type": "markdown",
   "id": "99340e2c-97c9-41eb-8af9-bc9b0ffd7720",
   "metadata": {},
   "source": [
    "However, be careful and always pay attention to what an operation **could** return.\n",
    "When we use a list to select columns from a frame, then we **could** select multiple columns.\n",
    "Therefore, this will always return a frame even through only one column is selected and the result can fit into a series."
   ]
  },
  {
   "cell_type": "code",
   "execution_count": null,
   "id": "cb01b7bb-4298-43c9-a7ad-1249cb4cb9df",
   "metadata": {},
   "outputs": [],
   "source": [
    "value = surf_frame[['Name']]\n",
    "\n",
    "print(type(value))\n",
    "value"
   ]
  },
  {
   "cell_type": "markdown",
   "id": "8f3a56bb-f946-449f-b0ca-33957a6c624e",
   "metadata": {},
   "source": [
    "The difference between these two is just a pair of brackets,\n",
    "and you can see how people can easily mess this up and get in trouble.\n",
    "```\n",
    "surf_frame['Name']\n",
    "surf_frame[['Name']]\n",
    "```"
   ]
  },
  {
   "cell_type": "markdown",
   "id": "20834b30-97d2-4ee7-bb27-bcd381f98906",
   "metadata": {},
   "source": [
    "## Overriding Operations\n",
    "\n",
    "One of the ways that Pandas tries to make their framework more intuitive is to [override existing Python operators](https://docs.python.org/3/reference/datamodel.html#emulating-numeric-types).\n",
    "This allows you do do things like use the `+` operator to add a constant to all rows in a column:"
   ]
  },
  {
   "cell_type": "code",
   "execution_count": null,
   "id": "2d6cca56-420b-4713-bbc7-de831489051f",
   "metadata": {},
   "outputs": [],
   "source": [
    "display(surf_frame['Surfing Score'])\n",
    "print('---')\n",
    "display(surf_frame['Surfing Score'] + 1)"
   ]
  },
  {
   "cell_type": "markdown",
   "id": "ea98b9b7-74ce-4708-8fda-a1f5decc8748",
   "metadata": {},
   "source": [
    "You can even use the `=` operator to assign that new score back into the frame:"
   ]
  },
  {
   "cell_type": "code",
   "execution_count": null,
   "id": "fe16a6fc-933e-4375-80aa-8e43cdd040ce",
   "metadata": {},
   "outputs": [],
   "source": [
    "test_frame = surf_frame.copy()\n",
    "test_frame['Surfing Score'] = test_frame['Surfing Score'] + 1\n",
    "test_frame"
   ]
  },
  {
   "cell_type": "markdown",
   "id": "44f8d546-24f6-40c7-9af1-486efd40296b",
   "metadata": {},
   "source": [
    "This can help make your code more readable, especially for people not familiar with Pandas.\n",
    "However, it can get tricky as you do more advanced operations.\n",
    "Specifically, you will sometimes need to know if you are using a native Python operator or if you are using an overridden Pandas operator.\n",
    "The following example will walk you through a specific use case and hopefully you can build off that to help you in identifying what operators you are using."
   ]
  },
  {
   "cell_type": "markdown",
   "id": "2127fa8f-b65c-47a0-8d05-704062c052b9",
   "metadata": {},
   "source": [
    "### Boolean Selection\n",
    "\n",
    "Consider the following data and frame."
   ]
  },
  {
   "cell_type": "code",
   "execution_count": null,
   "id": "98b44c57-d90e-43f3-bb76-cc614018e8d9",
   "metadata": {},
   "outputs": [],
   "source": [
    "bool_data = {\n",
    "    'col-all-bool': [True, False, True],\n",
    "    'col-missing-values': [True, False, None],\n",
    "    'col-mixed-values': [True, False, 1],\n",
    "}\n",
    "\n",
    "bool_frame = pandas.DataFrame(bool_data)\n",
    "bool_frame"
   ]
  },
  {
   "cell_type": "markdown",
   "id": "bf57286a-7e83-4547-ad9c-d30e8b45033e",
   "metadata": {},
   "source": [
    "All three columns have boolean values (`True`/`False`), but some the columns have some quirks:\n",
    " - `col-all-bool` -- All values are boolean.\n",
    " - `col-missing-values` -- Has boolean values and a `None` to represent a missing value (which is very common). \n",
    " - `col-mixed-values` -- Has boolean values as well as a `1`, which is commonly used to represent a true value (especially in machine learning).\n",
    "\n",
    "This frame has reasonable data that you could see a variety of settings.\n",
    "\n",
    "If we wanted to select the true/false values from this frame, we could use native Pandas operators like:\n",
    "```\n",
    "# True Values\n",
    "frame[frame['column-name']]\n",
    "\n",
    "# False Values\n",
    "frame[~frame['column-name']]\n",
    "```\n",
    "\n",
    "Or, we could use native Python operators like:\n",
    "```\n",
    "# True Values\n",
    "frame[frame['column-name'] == True]\n",
    "\n",
    "# False Values\n",
    "frame[frame['column-name'] == False]\n",
    "```\n",
    "\n",
    "Note that this second set will use the Python `==` operator and Python representations for `True` and `False`.\n",
    "Let's make a function to see how these different methods work on our data."
   ]
  },
  {
   "cell_type": "code",
   "execution_count": null,
   "id": "1c3a5c82-0b43-45dc-9936-6fc5a8a381ab",
   "metadata": {},
   "outputs": [],
   "source": [
    "def test_boolean_selection(frame, column_name):\n",
    "    # Use the Pandas method.\n",
    "    try:\n",
    "        print(\"True Pandas Values for '%s': %s\" % (column_name, list(frame[frame[column_name]][column_name])))\n",
    "        print(\"False Pandas Values for '%s': %s\" % (column_name, list(frame[~frame[column_name]][column_name])))\n",
    "    except Exception as ex:\n",
    "        print(\"Got an exception while trying to access the Pandas way: \", ex)\n",
    "\n",
    "    # Use the Python method.\n",
    "    try:\n",
    "        print(\"True Python Values for '%s': %s\" % (column_name, list(frame[frame[column_name] == True][column_name])))\n",
    "        print(\"False Python Values for '%s': %s\" % (column_name, list(frame[frame[column_name] == False][column_name])))\n",
    "    except Exception as ex:\n",
    "        print(\"Got an exception while trying to access the Python way: \", ex)"
   ]
  },
  {
   "cell_type": "markdown",
   "id": "7c4d4065-f07e-43c8-b406-45888c151219",
   "metadata": {},
   "source": [
    "Now let's try this function out on our cleanest column:"
   ]
  },
  {
   "cell_type": "code",
   "execution_count": null,
   "id": "bbb0f116-8c58-48c1-8abc-9bb34ca58da2",
   "metadata": {},
   "outputs": [],
   "source": [
    "test_boolean_selection(bool_frame, 'col-all-bool')"
   ]
  },
  {
   "cell_type": "markdown",
   "id": "ac5d1c33-ca36-443a-84f0-44130f248d49",
   "metadata": {},
   "source": [
    "When all the values are booleans, we get the same functionality no matter how we access the data.\n",
    "\n",
    "Now what happens when we have missing data:"
   ]
  },
  {
   "cell_type": "code",
   "execution_count": null,
   "id": "2420e138-fb69-4f58-8022-c52711ccfcb9",
   "metadata": {},
   "outputs": [],
   "source": [
    "test_boolean_selection(bool_frame, 'col-missing-values')"
   ]
  },
  {
   "cell_type": "markdown",
   "id": "9c942e4b-b9be-42e8-9ebe-aa38e19dc36a",
   "metadata": {},
   "source": [
    "Now things start to get concerning when our data is not so clean (which is always the case in data science).\n",
    "When there is a missing value (`None`), then the Pandas way throws an exception and the Python way just doesn't count the value as either true or false.\n",
    "\n",
    "So, which way is correct here?\n",
    "\n",
    "There is actually no correct answer here.\n",
    "It all depends on the data and the situation.\n",
    "Generally, it is usually safer to use Pandas operations when you are dealing with Pandas data, but this is just a rule-of-thumb.\n",
    "You may need to guarantee you code doesn't throw an exception even if the data is wrong,\n",
    "and in that case the Python way may be safer.\n",
    "\n",
    "(Personally I generally prefer the Pandas way here,\n",
    "since this could be a sign of poor data cleaning and I generally want to be alerted (via a raised exception) when my data is wrong. -eriq)\n",
    "\n",
    "Finally, what happens when we have mixed values:"
   ]
  },
  {
   "cell_type": "code",
   "execution_count": null,
   "id": "ad7f7251-9fa4-469e-aaf9-fce62a497ddf",
   "metadata": {},
   "outputs": [],
   "source": [
    "test_boolean_selection(bool_frame, 'col-mixed-values')"
   ]
  },
  {
   "cell_type": "markdown",
   "id": "ab09d092-a9c5-4ec9-a5df-80443df59c38",
   "metadata": {},
   "source": [
    "Given Pandas' behavior in the last test, it makes sense that it also throws an exception here.\n",
    "\n",
    "The behavior that may really catch you off guard here is the Python behavior.\n",
    "The integer 1 is counted as a true value.\n",
    "Instead of using hard truth values, Python uses the concept of \"Truthy\" or things that are like true values.\n",
    "Therefore, there may be some things that you don't expect to match when using Python operators."
   ]
  },
  {
   "cell_type": "code",
   "execution_count": null,
   "id": "08f8d4d7-bcfe-4874-90a5-30df8ad0d46b",
   "metadata": {},
   "outputs": [],
   "source": [
    "values = [\n",
    "    True, False,\n",
    "    0, 1, -1,\n",
    "    '', 'a',\n",
    "    [], [1], ['a'], [True], [False],\n",
    "]\n",
    "\n",
    "for value in values:\n",
    "    print(\"Value: %s,\\tIs T?: %s,\\tIs F?: %s\" % (value, (value == True), (value == False)))"
   ]
  },
  {
   "cell_type": "markdown",
   "id": "82dd8d34-fbe5-4891-9d85-e4739299f7da",
   "metadata": {},
   "source": [
    "Most of these are not too surprising.\n",
    "But if you want to be surprised try this test in JavaScript."
   ]
  }
 ],
 "metadata": {
  "kernelspec": {
   "display_name": "Python 3 (ipykernel)",
   "language": "python",
   "name": "python3"
  },
  "language_info": {
   "codemirror_mode": {
    "name": "ipython",
    "version": 3
   },
   "file_extension": ".py",
   "mimetype": "text/x-python",
   "name": "python",
   "nbconvert_exporter": "python",
   "pygments_lexer": "ipython3",
   "version": "3.11.3"
  }
 },
 "nbformat": 4,
 "nbformat_minor": 5
}

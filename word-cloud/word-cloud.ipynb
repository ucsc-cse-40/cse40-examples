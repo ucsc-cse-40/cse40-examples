{
 "cells": [
  {
   "cell_type": "markdown",
   "id": "f4193009-f2aa-40a7-82df-f33c1cd239c4",
   "metadata": {},
   "source": [
    "The class was given a survey and asked the question:\n",
    "```\n",
    "What classes are you taking?\n",
    "```\n",
    "\n",
    "This is a simple question on the surface, but has hidden complexity that a data scientist can see through.\n",
    "Let's look at the responses:"
   ]
  },
  {
   "cell_type": "code",
   "execution_count": null,
   "id": "2acffd09-3f6b-4188-a2af-a1024c6c34e3",
   "metadata": {},
   "outputs": [],
   "source": [
    "import matplotlib.pyplot\n",
    "import wordcloud\n",
    "\n",
    "courses = []\n",
    "\n",
    "with open('responses.txt', 'r') as file:\n",
    "        for line in file:\n",
    "            courses.append(line.strip())\n",
    "\n",
    "courses[0:15]"
   ]
  },
  {
   "cell_type": "markdown",
   "id": "1ece9957-b9c3-4c79-8ddb-55d07f739801",
   "metadata": {},
   "source": [
    "Let's make a method to help us visualize the data."
   ]
  },
  {
   "cell_type": "code",
   "execution_count": null,
   "id": "4c08747b-d84a-4131-b7cb-775010192eb0",
   "metadata": {},
   "outputs": [],
   "source": [
    "def visualize(words):\n",
    "    cloud = wordcloud.WordCloud().generate('\\t'.join(words))\n",
    "        \n",
    "    matplotlib.pyplot.figure()\n",
    "    matplotlib.pyplot.imshow(cloud, interpolation = \"bilinear\")\n",
    "    matplotlib.pyplot.axis(\"off\")\n",
    "    matplotlib.pyplot.show()"
   ]
  },
  {
   "cell_type": "code",
   "execution_count": null,
   "id": "58a1f9ee-4502-4900-a033-315abfcfb5a3",
   "metadata": {},
   "outputs": [],
   "source": [
    "visualize(courses)"
   ]
  },
  {
   "cell_type": "markdown",
   "id": "f36429ff-8321-4f6a-a445-29d42cec9313",
   "metadata": {},
   "source": [
    "On first glance, this looks really cool!\n",
    "\n",
    "But if we look a little deeper, we start to see some problems...\n",
    " - \"CSE\" is on it's own. There is no course just called CSE.\n",
    " - There are multiple instances of \"CSE40\" floating around.\n",
    "\n",
    "What's going on?\n",
    "Let's look closer at the data."
   ]
  },
  {
   "cell_type": "code",
   "execution_count": null,
   "id": "f5452172-50ae-4c51-b5d9-21514e9bd827",
   "metadata": {},
   "outputs": [],
   "source": [
    "# Only look for individual values:\n",
    "list(sorted(set(courses)))[0:15]"
   ]
  },
  {
   "cell_type": "markdown",
   "id": "52a94637-8130-4a02-9683-c98878b95ac0",
   "metadata": {},
   "source": [
    "Looks like there may be more than one course per line.\n",
    "Maybe the word cloud library was having trouble with those.\n",
    "Let's split those up."
   ]
  },
  {
   "cell_type": "code",
   "execution_count": null,
   "id": "f6061602-ff89-42ff-b10e-0239c344de85",
   "metadata": {},
   "outputs": [],
   "source": [
    "new_courses = []\n",
    "\n",
    "for line in courses:\n",
    "    split_line = line.split(';')\n",
    "    new_courses += split_line\n",
    "\n",
    "courses = new_courses"
   ]
  },
  {
   "cell_type": "markdown",
   "id": "73c3a562-836f-4ff7-b846-f9b023b201db",
   "metadata": {},
   "source": [
    "Now let's look at our courses again."
   ]
  },
  {
   "cell_type": "code",
   "execution_count": null,
   "id": "e862c1cd-7f99-410d-8ba8-b11e15c48bf4",
   "metadata": {},
   "outputs": [],
   "source": [
    "print(list(sorted(set(courses)))[0:15])\n",
    "visualize(courses)"
   ]
  },
  {
   "cell_type": "markdown",
   "id": "d7c7628f-acbf-46fb-bb04-8a803fe61b91",
   "metadata": {},
   "source": [
    "Looking better, but we can still see some mistakes,\n",
    "like 'CSE' is still in the word cloud alone.\n",
    "\n",
    "If we look at the raw words, it looks like some entered in \"CSE 115C\" instead of \"CSE115C\".\n",
    "In fact, it looks like there are several more spacing issues in our words, like ' CSE114A' and 'CSE114A'.\n",
    "We can clean this up by just removing all white space from our words."
   ]
  },
  {
   "cell_type": "code",
   "execution_count": null,
   "id": "67d6868e-3931-44bc-83fc-47b66b612cd0",
   "metadata": {},
   "outputs": [],
   "source": [
    "courses = [course.replace(' ', '') for course in courses]\n",
    "\n",
    "# If we wanted to be really cool, we would use a regular expression instead.\n",
    "# courses = [course.replace(r'\\s+', '') for course in courses]"
   ]
  },
  {
   "cell_type": "markdown",
   "id": "fd26cd23-5289-40ca-ae5e-8972e67d6327",
   "metadata": {},
   "source": [
    "Let's try again."
   ]
  },
  {
   "cell_type": "code",
   "execution_count": null,
   "id": "c012d122-13e3-477d-8939-025c6183a7e1",
   "metadata": {},
   "outputs": [],
   "source": [
    "print(list(sorted(set(courses)))[0:15])\n",
    "print(list(sorted(set(courses)))[40:50])\n",
    "visualize(courses)"
   ]
  },
  {
   "cell_type": "markdown",
   "id": "3c2c510a-ff28-4f2f-9370-80c2b230cd3d",
   "metadata": {},
   "source": [
    "Much cleaner!\n",
    "\n",
    "But if we look at the raw words, we see that there is some inconsistency with casing.\n",
    "Let's convert them all to the same case."
   ]
  },
  {
   "cell_type": "code",
   "execution_count": null,
   "id": "29c358fd-6faf-43ae-88ca-edfae77740c1",
   "metadata": {},
   "outputs": [],
   "source": [
    "courses = [course.upper() for course in courses]"
   ]
  },
  {
   "cell_type": "markdown",
   "id": "a55817a5-bf92-437b-b5be-326c6dd6e6c5",
   "metadata": {},
   "source": [
    "Visualize."
   ]
  },
  {
   "cell_type": "code",
   "execution_count": null,
   "id": "8bb6d40a-3edc-4bb4-8a49-f61c3bea6de0",
   "metadata": {},
   "outputs": [],
   "source": [
    "print(list(sorted(set(courses)))[0:15])\n",
    "print(list(sorted(set(courses)))[40:50])\n",
    "visualize(courses)"
   ]
  },
  {
   "cell_type": "markdown",
   "id": "7bc0cb90-3382-4853-8e07-a961412fc503",
   "metadata": {},
   "source": [
    "Fantastic!\n",
    "\n",
    "But, there is still one issue:\n",
    "What about that empty value in the first index of our list?\n",
    "Why is it there?\n",
    "It is a valid value?\n",
    "\n",
    "It may be a valid value...\n",
    "What if there are students not taking any other classes and they didn't put \"CSE40\"?\n",
    "We may want to know that, but empty strings don't show up in the word cloud.\n",
    "\n",
    "To fix this, we should replace the empty value with a known value.\n",
    "Let's use: '__NONE__'."
   ]
  },
  {
   "cell_type": "code",
   "execution_count": null,
   "id": "7e3088f0-5d50-4401-baf0-0afd3fdcec9f",
   "metadata": {},
   "outputs": [],
   "source": [
    "courses = ['__NONE__' if course == '' else course for course in courses]"
   ]
  },
  {
   "cell_type": "markdown",
   "id": "9d1719f4-b231-4e02-9788-425ab45224e7",
   "metadata": {},
   "source": [
    "Now to visualuze the results."
   ]
  },
  {
   "cell_type": "code",
   "execution_count": null,
   "id": "3644cd2f-300f-4186-861f-978778995e51",
   "metadata": {},
   "outputs": [],
   "source": [
    "print(list(set(courses))[0:15])\n",
    "visualize(courses)"
   ]
  },
  {
   "cell_type": "markdown",
   "id": "fd1aa80c-5751-466b-91da-35d32a88d496",
   "metadata": {},
   "source": [
    "Finally, we can see people who are not taking other classes.\n",
    "\n",
    "But, handling this case raises another question:\n",
    "Should we include \"CSE40\" in the results?\n",
    "The question we asked was:\n",
    "```\n",
    "What classes are you taking?\n",
    "```\n",
    "But it looks like some people interpreted it as:\n",
    "```\n",
    "What classes are you taking aside from CSE40?\n",
    "```\n",
    "\n",
    "In this case, it looks like we have an issue with our data that stems all the way from how we collected the data.\n",
    "We may not have been clear enough and this caused our data to come out noisier than we would like.\n",
    "\n",
    "The help clean things up, we can just remove all instances of CSE40."
   ]
  },
  {
   "cell_type": "code",
   "execution_count": null,
   "id": "942600c0-2d92-4ac6-970e-b4d3bb01c051",
   "metadata": {},
   "outputs": [],
   "source": [
    "# Since we already made cases consistent and removed white space, we can just do a direct comparison.\n",
    "courses = [course for course in courses if (course != 'CSE40')]"
   ]
  },
  {
   "cell_type": "code",
   "execution_count": null,
   "id": "c78574c9-cc51-4e51-b881-ba883e6001ce",
   "metadata": {},
   "outputs": [],
   "source": [
    "print(list(set(courses))[0:15])\n",
    "visualize(courses)"
   ]
  },
  {
   "cell_type": "markdown",
   "id": "d9742630-f0c2-41d0-8929-10a5565bd883",
   "metadata": {},
   "source": [
    "Now we can see an accurate representation of the other course people in CSE40 are taking.\n",
    "\n",
    "At the beginning of this process, we may have thought that our data was already in a pretty good state.\n",
    "But by working with it and exploring it, we have seen how much improvement our data has room form.\n",
    "Some changes were simple ones that just required some manipulation,\n",
    "but some changes required asking ourselves deep questions about how the data was collected in the first place."
   ]
  }
 ],
 "metadata": {
  "kernelspec": {
   "display_name": "Python 3 (ipykernel)",
   "language": "python",
   "name": "python3"
  },
  "language_info": {
   "codemirror_mode": {
    "name": "ipython",
    "version": 3
   },
   "file_extension": ".py",
   "mimetype": "text/x-python",
   "name": "python",
   "nbconvert_exporter": "python",
   "pygments_lexer": "ipython3",
   "version": "3.10.9"
  }
 },
 "nbformat": 4,
 "nbformat_minor": 5
}

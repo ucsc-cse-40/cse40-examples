{
 "cells": [
  {
   "cell_type": "markdown",
   "id": "86853590-414c-4f8a-9676-adfd2f4a2387",
   "metadata": {},
   "source": [
    "# Linear Regression\n",
    "\n",
    "In this example, we will take a look at building a linear regressor,\n",
    "and the line that is produced.\n",
    "\n",
    "We will be using a toy dataset from scikit-learn called \"Diabetes\",\n",
    "which is meant to represent the measure of progression of diabetes in a patient.\n",
    "The exact details of the dataset are not particularly important for us,\n",
    "we just need some sample data to graph.\n",
    "\n",
    "For another example of linear regression using this same dataset,\n",
    "see scikit-learn's [Linear Regression Example](https://scikit-learn.org/stable/auto_examples/linear_model/plot_ols.html).\n",
    "\n",
    "Let's start with loading the dataset."
   ]
  },
  {
   "cell_type": "code",
   "execution_count": null,
   "id": "92f9f28d-f8e9-4836-adbf-731ec4aaa581",
   "metadata": {},
   "outputs": [],
   "source": [
    "import math\n",
    "\n",
    "import matplotlib.pyplot\n",
    "import sklearn.datasets\n",
    "import sklearn.linear_model\n",
    "\n",
    "# Load a dataset.\n",
    "# The exact details of this dataset don't matter, we are just using it as sample data points.\n",
    "dataset = sklearn.datasets.load_diabetes(as_frame = True)\n",
    "\n",
    "# Get the features and targets/labels.\n",
    "features = dataset['data']\n",
    "targets = dataset['target']\n",
    "\n",
    "# We only care about the first feature (so we can graph it).\n",
    "# Note that the data has been normalized, so it may not look like what you may expect from \"BMI\".\n",
    "# But this is no problem for us, since we just interested in the data for graphing.\n",
    "features = features['bmi']\n",
    "\n",
    "# Grab a subset of the data points so we can see them easier on the graph.\n",
    "# (We happen to know that the last 20 look pretty good for graphing.)\n",
    "features = features[-20:]\n",
    "targets = targets[-20:]\n",
    "\n",
    "# sklearn tends to prefer data as numpy ndarrays.\n",
    "# The reshape \"stacks\" our horizontal list (1 row, many columns)\n",
    "# into a vertical list (many rows, 1 column).\n",
    "features = features.to_numpy().reshape(-1, 1)\n",
    "targets = targets.to_numpy().reshape(-1, 1)\n",
    "\n",
    "print(features[0:10])\n",
    "print(targets[0:10])"
   ]
  },
  {
   "cell_type": "markdown",
   "id": "8d244bab-5985-4aa4-9b52-a06930efd6a5",
   "metadata": {},
   "source": [
    "Now that we have some data, let's just plot it."
   ]
  },
  {
   "cell_type": "code",
   "execution_count": null,
   "id": "a6c21554-5490-4293-97e5-874a3a3a881c",
   "metadata": {},
   "outputs": [],
   "source": [
    "# The 'k.' tells matplotlib to use a \"black dot\" when plotting.\n",
    "matplotlib.pyplot.plot(features, targets, 'k.')\n",
    "matplotlib.pyplot.show()"
   ]
  },
  {
   "cell_type": "markdown",
   "id": "c4f150d7-2d8b-49c5-8775-9fa7bf010b14",
   "metadata": {},
   "source": [
    "We can see a slight increasing pattern,\n",
    "but it will be easier to see once we have a line that is fit to the data."
   ]
  },
  {
   "cell_type": "code",
   "execution_count": null,
   "id": "3671adbe-1434-45cf-815a-648c947aef8d",
   "metadata": {},
   "outputs": [],
   "source": [
    "# Train a linear regressor on the data.\n",
    "regressor = sklearn.linear_model.LinearRegression()\n",
    "regressor.fit(features, targets)\n",
    "\n",
    "# Have the regressor predict back the line it fit.\n",
    "# (Make a prediction for each data point and graph it (which essentially gives us back the line).)\n",
    "predictions = regressor.predict(features)\n",
    "\n",
    "# Plot the actual data points.\n",
    "# The 'k.' tells matplotlib to use a \"black dot\" when plotting.\n",
    "matplotlib.pyplot.plot(features, targets, 'k.')\n",
    "\n",
    "# Plot the predictions.\n",
    "# The 'g-' tells matplotlib to use a \"green line\" when plotting.\n",
    "matplotlib.pyplot.plot(features, predictions, 'g-')\n",
    "\n",
    "matplotlib.pyplot.show()"
   ]
  },
  {
   "cell_type": "markdown",
   "id": "1ef13a63-78f4-4588-81b2-621ba7d647ce",
   "metadata": {},
   "source": [
    "Looks pretty cool!\n",
    "\n",
    "But how good does the newly-fitted line actually fit the data?\n",
    "\n",
    "We have already talked about error and have seen RMSE.\n",
    "Let's take a look (and graph!) the error for this regression."
   ]
  },
  {
   "cell_type": "code",
   "execution_count": null,
   "id": "5b0b9080-bfe4-41f3-bd5d-086c60d86ce4",
   "metadata": {},
   "outputs": [],
   "source": [
    "rmse = 0.0\n",
    "\n",
    "for i in range(len(features)):\n",
    "    feature = features[i]\n",
    "    target = targets[i]\n",
    "    prediction = predictions[i]\n",
    "    \n",
    "    error = target - prediction\n",
    "    rmse += (error ** 2)\n",
    "    \n",
    "    # Draw a red line ('r-') between the true target (located at the point (feature, target))\n",
    "    # and the prediction (located at the point (feature, prediction)).\n",
    "    matplotlib.pyplot.plot([feature, feature], [target, prediction], 'r-')\n",
    "\n",
    "# Put the real targets and predictions on the plot again.\n",
    "matplotlib.pyplot.plot(features, targets, 'k.')\n",
    "matplotlib.pyplot.plot(features, predictions, 'g-')\n",
    "\n",
    "matplotlib.pyplot.show()\n",
    "\n",
    "# Vector operations (`target - prediction`) causes rmse to be a vector (1-dimensional numpy array),\n",
    "# so we need to pull out the desired value.\n",
    "rmse = rmse[0]\n",
    "\n",
    "rmse = math.sqrt(rmse / len(features))\n",
    "print(\"RMSE: %3.2f\" % (rmse))"
   ]
  },
  {
   "cell_type": "markdown",
   "id": "cda29ca5-f50f-483f-a023-1655365b797e",
   "metadata": {},
   "source": [
    "Now we not only have the numerical RMSE, but we can also see how far away the prediction is for each true target."
   ]
  }
 ],
 "metadata": {
  "kernelspec": {
   "display_name": "Python 3 (ipykernel)",
   "language": "python",
   "name": "python3"
  },
  "language_info": {
   "codemirror_mode": {
    "name": "ipython",
    "version": 3
   },
   "file_extension": ".py",
   "mimetype": "text/x-python",
   "name": "python",
   "nbconvert_exporter": "python",
   "pygments_lexer": "ipython3",
   "version": "3.11.7"
  }
 },
 "nbformat": 4,
 "nbformat_minor": 5
}

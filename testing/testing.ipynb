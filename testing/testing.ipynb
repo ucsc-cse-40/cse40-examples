{
 "cells": [
  {
   "cell_type": "markdown",
   "id": "8ae9284f-a4fc-4e79-953b-4ebdd0087e80",
   "metadata": {},
   "source": [
    "# Testing and Grading\n",
    "\n",
    "Testing is an important part of the software development process.\n",
    "It's usually not very fun, so it often goes overlooked and neglected.\n",
    "But it is critical and can also server as a vital part of debugging.\n",
    "Note that debugging (finding the cause of software issues) is not the same as testing (creating infrastructure to help discover and prevent software issues),\n",
    "but they have a lot of overlap.\n",
    "So you can also think of testing as investing in infrastructure to help future debugging.\n",
    "\n",
    "In a similar vein of testing code, we also have grading code.\n",
    "They are pretty similar, but grading is usually a bit harder because you have to assign partial credit\n",
    "and give feedback that is specific enough to be helpful but not too specific as to give away the answer.\n",
    "Grading is not within the scope of this course, but understanding the basics of grading (and how they are similar to testing)\n",
    "can help you better understand how your own assignments are graded and hopefully help you get better scores."
   ]
  },
  {
   "cell_type": "code",
   "execution_count": null,
   "id": "32b8a0ee-74ae-45a3-a482-eddf5fca3a06",
   "metadata": {},
   "outputs": [],
   "source": [
    "# Import what we will need for this notebook.\n",
    "import base64\n",
    "\n",
    "import autograder.question\n",
    "import autograder.assignment"
   ]
  },
  {
   "cell_type": "markdown",
   "id": "c2780136-a137-423e-b13e-90f2fb919edb",
   "metadata": {},
   "source": [
    "## Testing in Python\n",
    "\n",
    "There are many ways to test code, and many different types of tests (unit, integration, behavior, etc).\n",
    "In this exercise (and course) we are going to focus on [unit testing](https://en.wikipedia.org/wiki/Unit_testing),\n",
    "which is writing tests for individual code units.\n",
    "A \"unit\" can be many different things (function, class, module, etc), but in our case it will usually be a single function.\n",
    "So we will want to make test functions that test functions.\n",
    "\n",
    "Note that using print statements generally falls under debugging rather than testing\n",
    "(but is very much encouraged for debugging).\n",
    "\n",
    "Here are a few popular testing frameworks in Python, note that this list is far from exhaustive:\n",
    " - [unittest](https://docs.python.org/3/library/unittest.html) (Python standard library)\n",
    " - [pytest](https://en.wikipedia.org/wiki/Unit_testing)\n",
    " - [Robot Framework](https://robotframework.org/)\n",
    " - [nose2](https://docs.nose2.io/en/latest/)\n",
    " - [Testify](https://github.com/Yelp/Testify)\n",
    "\n",
    "Each framework has its own style, usage, and specific vocabulary, but it all comes down to the same thing:\n",
    "running code with known inputs and making sure the output matches.\n",
    "In this course, we are generally not going to make you write unit tests (we would if we had the time/units),\n",
    "but you will probably find yourself in situations where writing a test is the best way to fix/finish your code.\n",
    "So we encourage you to find a framework that you like and get familiar with it.\n",
    "\n",
    "This class uses an autograding framework that is used to write your local tests (that you can run) and hidden tests (that are used to give you a score).\n",
    "Below, we will go through an example using the course's grading framework."
   ]
  },
  {
   "cell_type": "markdown",
   "id": "44b9c179-307a-4c7f-8fa4-07e3757af20c",
   "metadata": {},
   "source": [
    "## Example Assignment: Fibonacci Sequence\n",
    "\n",
    "Understanding this example will give you insight into how we build our graders that grade your actual assignments.\n",
    "\n",
    "Let's say that we are given the task of making an assignment where students need to make a function\n",
    "to compute the ith [Fibonacci](https://en.wikipedia.org/wiki/Fibonacci_sequence) number.\n",
    "So `fibonacci(1) == 1`, `fibonacci(4) == 3`, etc."
   ]
  },
  {
   "cell_type": "code",
   "execution_count": null,
   "id": "004b13fc-3961-45d6-82a8-4ca0284fbbea",
   "metadata": {},
   "outputs": [],
   "source": [
    "# The un-implemented function we give to the students would look like:\n",
    "def fibonacci(i):\n",
    "    return NotImplemented"
   ]
  },
  {
   "cell_type": "markdown",
   "id": "0c6426f6-4fbd-432e-92d2-045e4c008ffb",
   "metadata": {},
   "source": [
    "Let's make an assignment to grade this function.\n",
    "\n",
    "When grading the `fibonacci()` function, we will need to make sure to test all the use cases:\n",
    " - 0 and 1 are special cases that have fixed values.\n",
    " - The general case starts at 2, so we should test a couple general cases.\n",
    " - Negative values are undefined. Let's assume for this exercise that students are supposed to raise a `ValueError` if negative inputs are given.\n",
    "\n",
    "So far, this is pretty much the same as if you were just testing your own Fibonacci function.\n",
    "The main difference is that we will now need to give partial credit and feedback when use cases are missed\n",
    "(instead of just putting up an error like in testing)."
   ]
  },
  {
   "cell_type": "code",
   "execution_count": null,
   "id": "c8f4dcc7-69a1-4a7e-a874-9810130de90f",
   "metadata": {},
   "outputs": [],
   "source": [
    "class TestAssignment(autograder.assignment.Assignment):\n",
    "    def __init__(self, **kwargs):\n",
    "        # Set prep_submission to false since we don't have any files\n",
    "        # that go along with this assignment (just this notebook).\n",
    "        super().__init__(prep_submission = False, questions = [\n",
    "            TestFibonacci(10),\n",
    "        ], **kwargs)\n",
    "\n",
    "class TestFibonacci(autograder.question.Question):\n",
    "    def score_question(self, _):\n",
    "        # First we will usually test to see if the function is even implemented.\n",
    "        # If it is not implemented, then just finish scoring right away.\n",
    "        value = fibonacci(0)\n",
    "        if (self.check_not_implemented(value)):\n",
    "            return\n",
    "\n",
    "        # Start off with full credit and deduct points for mistakes.\n",
    "        self.full_credit()\n",
    "            \n",
    "        # Test the special starting cases.\n",
    "        # Give feedback that is helpful, but not too specific!\n",
    "        \n",
    "        if (fibonacci(0) != 0):\n",
    "            self.add_message(\"Missed an initial condition of Fibonacci.\", -2)\n",
    "\n",
    "        if (fibonacci(1) != 1):\n",
    "            self.add_message(\"Missed an initial condition of Fibonacci.\", -2)\n",
    "\n",
    "        # Test some general cases.\n",
    "\n",
    "        # 2 is a good case to test since it is the first general case.\n",
    "        if (fibonacci(2) != 1):\n",
    "            self.add_message(\"Missed a general case of Fibonacci.\", -2)\n",
    "            \n",
    "        if (fibonacci(10) != 55):\n",
    "            self.add_message(\"Missed a general case of Fibonacci.\", -2)\n",
    "            \n",
    "        # Test the special negative case.\n",
    "\n",
    "        try:\n",
    "            fibonacci(-1)\n",
    "\n",
    "            # This will only be reached if the above call does not throw an exception.\n",
    "            self.add_message(\"Missed a negative case of Fibonacci.\", -2)\n",
    "        except ValueError:\n",
    "            # Expected\n",
    "            pass"
   ]
  },
  {
   "cell_type": "markdown",
   "id": "88efb854-59eb-4922-9672-445eea73de03",
   "metadata": {},
   "source": [
    "Now let's try our grader first on the unimplemented function:"
   ]
  },
  {
   "cell_type": "code",
   "execution_count": null,
   "id": "0bd7f690-913e-4546-a690-d35e2945e825",
   "metadata": {},
   "outputs": [],
   "source": [
    "assignment = TestAssignment(name = \"Fibonacci Grader\")\n",
    "result = assignment.grade()\n",
    "print(result.report())"
   ]
  },
  {
   "cell_type": "markdown",
   "id": "288c2a48-a300-44fb-9905-5a8232569b2f",
   "metadata": {},
   "source": [
    "As expected, we get a zero for no implementation.\n",
    "This means our grader is working!\n",
    "Now let's try with an actual Fibonacci implementation."
   ]
  },
  {
   "cell_type": "code",
   "execution_count": null,
   "id": "e4a9b2eb-e23e-4c5f-ae96-4d43d815d572",
   "metadata": {},
   "outputs": [],
   "source": [
    "def fibonacci(i):\n",
    "    if (i < 0):\n",
    "        raise ValueError(\"Fibonacci input must be non-negative, got: '%s'.\" % (i))\n",
    "\n",
    "    if (i == 0):\n",
    "        return 0\n",
    "    elif (i == 1):\n",
    "        return 1\n",
    "\n",
    "    return fibonacci(i - 1) + fibonacci(i - 2)"
   ]
  },
  {
   "cell_type": "code",
   "execution_count": null,
   "id": "d5e25cc2-8660-45ef-aa49-66a70d5b2d2d",
   "metadata": {},
   "outputs": [],
   "source": [
    "assignment = TestAssignment(name = \"Fibonacci Grader\")\n",
    "result = assignment.grade()\n",
    "print(result.report())"
   ]
  },
  {
   "cell_type": "markdown",
   "id": "9ae5ce8f-395b-4ee5-a2f8-72cbac54ca97",
   "metadata": {},
   "source": [
    "Try playing around on your own with this `fibonacci()` implementation.\n",
    "See how the grader responds when some of the edge cases (or even the general case) is wrong or missing.\n",
    "Remember, these are the same type of messages you will see in your own assignments."
   ]
  },
  {
   "cell_type": "markdown",
   "id": "360f0074-fcf7-4274-8c76-367693c424cb",
   "metadata": {},
   "source": [
    "## Puzzle Tests\n",
    "\n",
    "Debugging can be one of the most frustrating experiences you can ever have.\n",
    "But on the other side, you can also think of it as a fun puzzle to solve (especially when there is no money or grades on the line).\n",
    "Below are some obfuscated functions for you to write tests cases to try and figure out what they do.\n",
    "Each function takes a single value as input.\n",
    "They will need the following function to run.\n",
    "If you really wanted to, you can decode the running function and figure out how the functions are encoded\n",
    "(it's just Python, so there is only so much you can do to obfuscate code (and we only tried medium-hard to obfuscate)).\n",
    "\n",
    "Have fun!\n",
    "(And don't worry, this is not graded.)"
   ]
  },
  {
   "cell_type": "code",
   "execution_count": null,
   "id": "62d4eb6a-237a-41fd-aec7-c1d83a460003",
   "metadata": {},
   "outputs": [],
   "source": [
    "def run_obfuscated_function(value, *args, **kwargs):\n",
    "    value = bytes.fromhex(str(base64.b64decode(value), 'iso8859_6'))\n",
    "    value = str(bytes([element ^ 0xFF for element in value]), 'iso8859_6')\n",
    "\n",
    "    global_values = {}\n",
    "    exec(value, global_values)\n",
    "\n",
    "    return global_values[list(sorted(global_values.keys()))[-1]](*args, **kwargs)"
   ]
  },
  {
   "cell_type": "code",
   "execution_count": null,
   "id": "5afa43b0-db55-4f4f-8e48-03b625ff0626",
   "metadata": {},
   "outputs": [],
   "source": [
    "def test_puzzle_1(value):\n",
    "    return run_obfuscated_function('OWI5YTk5ZGY4ZDlhODk5YThkOGM5YWEwOTM5NjhjOGJkNzk2OGI5YTkyOGNkNmM1ZjVkZmRmZGZkZjkwOGE4YjhmOGE4YmRmYzJkZmE0YTJmNWRmZGZkZmRmZjVkZmRmZGZkZjk5OTA4ZGRmOTY4YjlhOTJkZjk2OTFkZjk2OGI5YTkyOGNjNWY1ZGZkZmRmZGZkZmRmZGZkZjkwOGE4YjhmOGE4YmQxOTY5MThjOWE4ZDhiZDdjZmQzZGY5NjhiOWE5MmQ2ZjVmNWRmZGZkZmRmOGQ5YThiOGE4ZDkxZGY5MDhhOGI4ZjhhOGJmNQ==', value)\n",
    "\n",
    "def test_puzzle_2(value):\n",
    "    return run_obfuscated_function('OWI5YTk5ZGY5NjhjYTA5MzlhOWU4ZmEwODY5YTllOGRkNzg2OWE5ZThkZDZjNWY1ZGZkZmRmZGY5Njk5ZGZkNzg2OWE5ZThkZGZkYWRmY2JjZmNmZGZjMmMyZGZjZmQ2YzVmNWRmZGZkZmRmZGZkZmRmZGY4ZDlhOGI4YThkOTFkZmFiOGQ4YTlhZjVmNWRmZGZkZmRmOTY5OWRmZDc4NjlhOWU4ZGRmZGFkZmNlY2ZjZmRmYzJjMmRmY2ZkNmM1ZjVkZmRmZGZkZmRmZGZkZmRmOGQ5YThiOGE4ZDkxZGZiOTllOTM4YzlhZjVmNWRmZGZkZmRmOGQ5YThiOGE4ZDkxZGZkNzg2OWE5ZThkZGZkYWRmY2JkZmMyYzJkZmNmZDZmNQ==', value)"
   ]
  }
 ],
 "metadata": {
  "kernelspec": {
   "display_name": "Python 3 (ipykernel)",
   "language": "python",
   "name": "python3"
  },
  "language_info": {
   "codemirror_mode": {
    "name": "ipython",
    "version": 3
   },
   "file_extension": ".py",
   "mimetype": "text/x-python",
   "name": "python",
   "nbconvert_exporter": "python",
   "pygments_lexer": "ipython3",
   "version": "3.11.3"
  }
 },
 "nbformat": 4,
 "nbformat_minor": 5
}
